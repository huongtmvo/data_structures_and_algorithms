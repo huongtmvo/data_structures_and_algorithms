{
 "cells": [
  {
   "cell_type": "code",
   "execution_count": 15,
   "id": "cda851f9",
   "metadata": {},
   "outputs": [],
   "source": [
    "class DisjointSet:\n",
    "    def __init__(self, n):\n",
    "        self.parent = [i for i in range(n)]\n",
    "        self.rank = [0] * n\n",
    "    \n",
    "    def find(self, x):\n",
    "        # Path compression, attach all nodes to root\n",
    "        if x != self.parent[x]:\n",
    "            self.parent[x] = self.find(self.parent[x])\n",
    "        return self.parent[x]\n",
    "        \n",
    "    def union(self, x, y):\n",
    "        rx = self.find(x)\n",
    "        ry = self.find(y)\n",
    "        \n",
    "        if rx == ry:\n",
    "            return\n",
    "        if self.rank[rx] > self.rank[ry]:\n",
    "            self.parent[ry] = rx\n",
    "        else:\n",
    "            self.parent[rx] = ry\n",
    "            if self.rank[rx] == self.rank[ry]:\n",
    "                self.rank[ry] += 1"
   ]
  },
  {
   "cell_type": "code",
   "execution_count": 5,
   "id": "2565b10c",
   "metadata": {},
   "outputs": [],
   "source": [
    "ds = DisjointSet(7)"
   ]
  },
  {
   "cell_type": "code",
   "execution_count": 6,
   "id": "9a9688a9",
   "metadata": {},
   "outputs": [
    {
     "data": {
      "text/plain": [
       "[0, 1, 2, 3, 4, 5, 6]"
      ]
     },
     "execution_count": 6,
     "metadata": {},
     "output_type": "execute_result"
    }
   ],
   "source": [
    "ds.parent"
   ]
  },
  {
   "cell_type": "code",
   "execution_count": 7,
   "id": "4f651616",
   "metadata": {},
   "outputs": [
    {
     "data": {
      "text/plain": [
       "[0, 0, 0, 0, 0, 0, 0]"
      ]
     },
     "execution_count": 7,
     "metadata": {},
     "output_type": "execute_result"
    }
   ],
   "source": [
    "ds.rank"
   ]
  },
  {
   "cell_type": "code",
   "execution_count": 8,
   "id": "c3d57634",
   "metadata": {},
   "outputs": [
    {
     "data": {
      "text/plain": [
       "5"
      ]
     },
     "execution_count": 8,
     "metadata": {},
     "output_type": "execute_result"
    }
   ],
   "source": [
    "ds.find(5)"
   ]
  },
  {
   "cell_type": "code",
   "execution_count": 9,
   "id": "6d8dad80",
   "metadata": {},
   "outputs": [],
   "source": [
    "ds.union(1,5)"
   ]
  },
  {
   "cell_type": "code",
   "execution_count": 10,
   "id": "1d1bfe08",
   "metadata": {},
   "outputs": [
    {
     "data": {
      "text/plain": [
       "[0, 5, 2, 3, 4, 5, 6]"
      ]
     },
     "execution_count": 10,
     "metadata": {},
     "output_type": "execute_result"
    }
   ],
   "source": [
    "ds.parent"
   ]
  },
  {
   "cell_type": "code",
   "execution_count": 11,
   "id": "2414d258",
   "metadata": {},
   "outputs": [
    {
     "data": {
      "text/plain": [
       "[0, 0, 0, 0, 0, 1, 0]"
      ]
     },
     "execution_count": 11,
     "metadata": {},
     "output_type": "execute_result"
    }
   ],
   "source": [
    "ds.rank"
   ]
  },
  {
   "cell_type": "code",
   "execution_count": 12,
   "id": "06dc6222",
   "metadata": {},
   "outputs": [],
   "source": [
    "ds.union(5,4)"
   ]
  },
  {
   "cell_type": "code",
   "execution_count": 13,
   "id": "a85cf1ce",
   "metadata": {},
   "outputs": [
    {
     "data": {
      "text/plain": [
       "[0, 5, 2, 3, 5, 5, 6]"
      ]
     },
     "execution_count": 13,
     "metadata": {},
     "output_type": "execute_result"
    }
   ],
   "source": [
    "ds.parent"
   ]
  },
  {
   "cell_type": "code",
   "execution_count": 14,
   "id": "a24484db",
   "metadata": {},
   "outputs": [
    {
     "data": {
      "text/plain": [
       "[0, 5, 5, 3, 5, 5, 6]"
      ]
     },
     "execution_count": 14,
     "metadata": {},
     "output_type": "execute_result"
    }
   ],
   "source": [
    "ds.union(1,2)\n",
    "ds.parent"
   ]
  },
  {
   "cell_type": "code",
   "execution_count": 16,
   "id": "f5c17f77",
   "metadata": {},
   "outputs": [],
   "source": [
    "ds.union(0,5)"
   ]
  },
  {
   "cell_type": "code",
   "execution_count": 17,
   "id": "2d1880da",
   "metadata": {},
   "outputs": [
    {
     "data": {
      "text/plain": [
       "[0, 0, 0, 0, 0, 1, 0]"
      ]
     },
     "execution_count": 17,
     "metadata": {},
     "output_type": "execute_result"
    }
   ],
   "source": [
    "ds.rank"
   ]
  },
  {
   "cell_type": "code",
   "execution_count": null,
   "id": "c4c1b240",
   "metadata": {},
   "outputs": [],
   "source": []
  }
 ],
 "metadata": {
  "kernelspec": {
   "display_name": "Python 3",
   "language": "python",
   "name": "python3"
  },
  "language_info": {
   "codemirror_mode": {
    "name": "ipython",
    "version": 3
   },
   "file_extension": ".py",
   "mimetype": "text/x-python",
   "name": "python",
   "nbconvert_exporter": "python",
   "pygments_lexer": "ipython3",
   "version": "3.7.4"
  }
 },
 "nbformat": 4,
 "nbformat_minor": 5
}

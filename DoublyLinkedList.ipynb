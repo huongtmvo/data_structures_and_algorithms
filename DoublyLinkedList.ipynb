{
 "cells": [
  {
   "cell_type": "code",
   "execution_count": null,
   "id": "4c1c7d24",
   "metadata": {},
   "outputs": [],
   "source": [
    "class Node:\n",
    "    def __init__(self,key):\n",
    "        self.key = key\n",
    "        self.next = none\n",
    "        self.pre = none\n",
    "class DoublyLinkedList:\n",
    "    def __init__(self):\n",
    "        self.head = none\n",
    "    \n",
    "    def pushback(self,key):\n",
    "        node = Node(key)\n",
    "        if head == None:\n",
    "            head = tail = node\n",
    "        else:\n",
    "            tail.next = node\n",
    "            node.prev = tail\n",
    "            tail = node\n",
    "    \n",
    "    def popback(self):\n",
    "        if head = None:\n",
    "            raise Exception(\"Cannot perform on empty list\")\n",
    "        elif head == tail:\n",
    "            head = tail = None\n",
    "        else:\n",
    "            \n",
    "        \n",
    "        "
   ]
  }
 ],
 "metadata": {
  "kernelspec": {
   "display_name": "Python 3",
   "language": "python",
   "name": "python3"
  },
  "language_info": {
   "codemirror_mode": {
    "name": "ipython",
    "version": 3
   },
   "file_extension": ".py",
   "mimetype": "text/x-python",
   "name": "python",
   "nbconvert_exporter": "python",
   "pygments_lexer": "ipython3",
   "version": "3.7.4"
  }
 },
 "nbformat": 4,
 "nbformat_minor": 5
}

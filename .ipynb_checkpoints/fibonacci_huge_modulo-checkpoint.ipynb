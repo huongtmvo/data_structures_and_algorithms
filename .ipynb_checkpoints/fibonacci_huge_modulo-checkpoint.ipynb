{
 "cells": [
  {
   "cell_type": "markdown",
   "id": "44f90fad",
   "metadata": {},
   "source": [
    "#### Find Fn modulo m where n may be really huge (up to 10^14)"
   ]
  },
  {
   "cell_type": "markdown",
   "id": "32d0b483",
   "metadata": {},
   "source": [
    "* Task: Given two integers 𝑛 and 𝑚, output 𝐹𝑛 mod 𝑚 (that is, the remainder of 𝐹𝑛 when divided by 𝑚).\n",
    "* Input Format: The input consists of two integers 𝑛 and 𝑚 given on the same line (separated by a space).\n",
    "* Constraints:  1 ≤ 𝑛 ≤ 1014 , 2 ≤ 𝑚 ≤ 103\n",
    "* Output Format: Output 𝐹𝑛 mod 𝑚."
   ]
  },
  {
   "cell_type": "markdown",
   "id": "3ed4ac26",
   "metadata": {},
   "source": [
    "For any integer m >=2, the Fibonacci sequence Fn mode m is periodic. The period always start with 01 (Pisano period)"
   ]
  },
  {
   "cell_type": "code",
   "execution_count": 1,
   "id": "5717a138",
   "metadata": {},
   "outputs": [],
   "source": [
    "def get_fibo(n):\n",
    "    fibo = [0,1]\n",
    "    for _ in range(n):\n",
    "        fibo.append(fibo[-1] + fibo[-2])\n",
    "    return fibo[n]\n",
    "    "
   ]
  },
  {
   "cell_type": "markdown",
   "id": "1c8003aa",
   "metadata": {},
   "source": [
    "For m = 2, the period is 011 (length = 3). For m = 3, the period is 01120221 (length =8)"
   ]
  },
  {
   "cell_type": "markdown",
   "id": "b6b81c01",
   "metadata": {},
   "source": [
    "For example, 123 mod 8 = 3, therefore F(123) mod 3 will be the same as F(3) mod 3"
   ]
  },
  {
   "cell_type": "code",
   "execution_count": 10,
   "id": "f825e729",
   "metadata": {},
   "outputs": [
    {
     "name": "stdout",
     "output_type": "stream",
     "text": [
      "2\n",
      "2\n"
     ]
    }
   ],
   "source": [
    "print(get_fibo(3) % 3)\n",
    "print(get_fibo(123) % 3)"
   ]
  },
  {
   "cell_type": "markdown",
   "id": "b83d80a0",
   "metadata": {},
   "source": [
    "Another example is 457 mod 3 = 1, therefore F(457) mod 2 will be the same as F(1) mod 2"
   ]
  },
  {
   "cell_type": "code",
   "execution_count": 13,
   "id": "efbdd081",
   "metadata": {},
   "outputs": [
    {
     "name": "stdout",
     "output_type": "stream",
     "text": [
      "1\n",
      "1\n"
     ]
    }
   ],
   "source": [
    "print(get_fibo(457)%2)\n",
    "print(get_fibo(1) %2)"
   ]
  },
  {
   "cell_type": "code",
   "execution_count": null,
   "id": "d0f9fb65",
   "metadata": {},
   "outputs": [],
   "source": []
  }
 ],
 "metadata": {
  "kernelspec": {
   "display_name": "Python 3",
   "language": "python",
   "name": "python3"
  },
  "language_info": {
   "codemirror_mode": {
    "name": "ipython",
    "version": 3
   },
   "file_extension": ".py",
   "mimetype": "text/x-python",
   "name": "python",
   "nbconvert_exporter": "python",
   "pygments_lexer": "ipython3",
   "version": "3.7.4"
  }
 },
 "nbformat": 4,
 "nbformat_minor": 5
}

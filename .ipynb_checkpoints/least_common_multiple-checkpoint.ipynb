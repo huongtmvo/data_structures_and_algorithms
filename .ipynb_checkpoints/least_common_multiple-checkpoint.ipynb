{
 "cells": [
  {
   "cell_type": "markdown",
   "id": "2d960de1",
   "metadata": {},
   "source": [
    "#### Find the least common multiple of 2 numbers a and b"
   ]
  },
  {
   "cell_type": "markdown",
   "id": "60f780ea",
   "metadata": {},
   "source": [
    "Notice that LCM = (a*b) / GCD"
   ]
  },
  {
   "cell_type": "code",
   "execution_count": 2,
   "id": "ae5c07b9",
   "metadata": {},
   "outputs": [],
   "source": [
    "def gcd(a,b):\n",
    "    return gcd(b,a%b) if b!= 0 else a"
   ]
  },
  {
   "cell_type": "code",
   "execution_count": 4,
   "id": "e863e1b3",
   "metadata": {},
   "outputs": [],
   "source": [
    "def lcm(a,b):\n",
    "    return (a*b)/gcd(a,b)"
   ]
  },
  {
   "cell_type": "code",
   "execution_count": 5,
   "id": "2c9607b1",
   "metadata": {},
   "outputs": [
    {
     "data": {
      "text/plain": [
       "24.0"
      ]
     },
     "execution_count": 5,
     "metadata": {},
     "output_type": "execute_result"
    }
   ],
   "source": [
    "lcm(8,6)"
   ]
  },
  {
   "cell_type": "markdown",
   "id": "6cf23683",
   "metadata": {},
   "source": [
    "Solution 2: Find the greater number of the 2 and increase it one by one\n"
   ]
  },
  {
   "cell_type": "code",
   "execution_count": 13,
   "id": "95d53750",
   "metadata": {},
   "outputs": [],
   "source": [
    "def lcm2(a,b):\n",
    "    if a > b :\n",
    "        greater = a\n",
    "    else:\n",
    "        greater = b\n",
    "    while(True):\n",
    "        if (greater % a == 0) and (greater % b ==0):\n",
    "            return greater\n",
    "        greater += 1\n",
    "    "
   ]
  },
  {
   "cell_type": "code",
   "execution_count": 14,
   "id": "6044666e",
   "metadata": {},
   "outputs": [
    {
     "data": {
      "text/plain": [
       "24"
      ]
     },
     "execution_count": 14,
     "metadata": {},
     "output_type": "execute_result"
    }
   ],
   "source": [
    "lcm2(8,6)"
   ]
  }
 ],
 "metadata": {
  "kernelspec": {
   "display_name": "Python 3",
   "language": "python",
   "name": "python3"
  },
  "language_info": {
   "codemirror_mode": {
    "name": "ipython",
    "version": 3
   },
   "file_extension": ".py",
   "mimetype": "text/x-python",
   "name": "python",
   "nbconvert_exporter": "python",
   "pygments_lexer": "ipython3",
   "version": "3.7.4"
  }
 },
 "nbformat": 4,
 "nbformat_minor": 5
}

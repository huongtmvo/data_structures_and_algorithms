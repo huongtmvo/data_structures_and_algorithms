{
 "cells": [
  {
   "cell_type": "code",
   "execution_count": null,
   "id": "e1dc6b8e",
   "metadata": {},
   "outputs": [],
   "source": [
    "# Write data structure that supports:\n",
    "# PushFront, TopFront, Popfront O(1)\n",
    "# PushBack, TopBack O(1)\n",
    "# Popback O(n)\n",
    "# Find, Erase O(n)\n",
    "# Add after, Empty O(1)"
   ]
  },
  {
   "cell_type": "code",
   "execution_count": 84,
   "id": "e20a36a2",
   "metadata": {},
   "outputs": [],
   "source": [
    "class Node:\n",
    "    def __init__(self, key):\n",
    "        self.key = key\n",
    "        self.next = None\n",
    "        \n",
    "    def __str__(self):\n",
    "        return str(self.key)\n",
    "    \n",
    "    def __repr__(self):\n",
    "        return self.__str__()\n",
    "\n",
    "class LinkedList:\n",
    "    def __init__(self):\n",
    "        self.head = None\n",
    "        self.tail = None\n",
    "        \n",
    "    def pushfront(self, key):\n",
    "        node = Node(key)\n",
    "        node.next = self.head\n",
    "        self.head = node\n",
    "        if self.tail == None:\n",
    "            self.tail = self.head\n",
    "            \n",
    "    def topfront(self):\n",
    "        return self.head\n",
    "    \n",
    "    def popfront(self):\n",
    "        if self.head == None:\n",
    "            raise Exception(\"Can't perform on empty list\")\n",
    "        self.head = self.head.next\n",
    "        if self.head == None:\n",
    "            self.tail = None\n",
    "    \n",
    "    def pushback(self, key):\n",
    "        node = Node(key)\n",
    "        if self.head == None:\n",
    "            self.head = self.tail = node\n",
    "        else:\n",
    "            self.tail.next = node\n",
    "            self.tail = node\n",
    "    \n",
    "    def topback(self):\n",
    "        return self.tail\n",
    "\n",
    "    def popback(self):\n",
    "        if self.tail == None:\n",
    "            raise Exception(\"Cannot perform on empty list\")\n",
    "        if self.tail == self.head:\n",
    "            self.tail = self.head = None\n",
    "            return\n",
    "        p = self.head\n",
    "        while p.next.next != None:\n",
    "            p = p.next\n",
    "        p.next = None\n",
    "        self.tail = p\n",
    "        \n",
    "    def find(self, key):\n",
    "        p = self.head\n",
    "        while p != None:\n",
    "            if p.key == key:\n",
    "                return True\n",
    "            p = p.next\n",
    "        return False\n",
    "        \n",
    "    def erase(self, key):\n",
    "        if self.head == None:\n",
    "            raise Exception(\"Cannot perform on empty list\")\n",
    "        p = self.head\n",
    "        while p.next.key != key:\n",
    "            p = p.next\n",
    "            if p == None:\n",
    "                return False\n",
    "        else:\n",
    "            p.next = p.next.next\n",
    "        \n",
    "    def empty(self):\n",
    "        return self.head == None\n",
    "    \n",
    "    def add_after(self, node, key):\n",
    "        new_node = Node(key)\n",
    "        new_node.next = node.next\n",
    "        node.next = new_node\n",
    "        if self.tail == node:\n",
    "            self.tail == new_node        \n",
    "   \n",
    "    def add_before(self, node, key):\n",
    "        new_node = Node(key)\n",
    "        new_node.next = node\n",
    "        p = self.head\n",
    "        if p == node:\n",
    "            self.head = new_node\n",
    "        else:\n",
    "            while p.next != node:\n",
    "                p = p.next\n",
    "            else:\n",
    "                p.next = new_node\n",
    "                \n",
    "    def __str__(self):\n",
    "        if self.head is None:\n",
    "            return \"List is empty!\"\n",
    "        cur = self.head\n",
    "        res = []\n",
    "        while cur:\n",
    "            res.append(str(cur.key))\n",
    "            cur = cur.next\n",
    "        return f\"List = [{', '.join(res)}]\"\n",
    "    \n",
    "    def __repr__(self):\n",
    "        return self.__str__()\n",
    "        "
   ]
  },
  {
   "cell_type": "code",
   "execution_count": 48,
   "id": "ef704b97",
   "metadata": {},
   "outputs": [],
   "source": []
  },
  {
   "cell_type": "code",
   "execution_count": 29,
   "id": "9badc275",
   "metadata": {},
   "outputs": [],
   "source": [
    "# API\n",
    "# pushfront(key)"
   ]
  },
  {
   "cell_type": "code",
   "execution_count": 85,
   "id": "e1ae1db3",
   "metadata": {},
   "outputs": [],
   "source": [
    "lst = LinkedList()\n",
    "lst.pushfront(5)\n",
    "lst.pushfront(7)"
   ]
  },
  {
   "cell_type": "code",
   "execution_count": 86,
   "id": "c86f33a9",
   "metadata": {},
   "outputs": [
    {
     "data": {
      "text/plain": [
       "List = [7, 5]"
      ]
     },
     "execution_count": 86,
     "metadata": {},
     "output_type": "execute_result"
    }
   ],
   "source": [
    "lst"
   ]
  },
  {
   "cell_type": "code",
   "execution_count": 87,
   "id": "7458c6e5",
   "metadata": {},
   "outputs": [
    {
     "data": {
      "text/plain": [
       "7"
      ]
     },
     "execution_count": 87,
     "metadata": {},
     "output_type": "execute_result"
    }
   ],
   "source": [
    "# testing topfront\n",
    "lst.topfront()"
   ]
  },
  {
   "cell_type": "code",
   "execution_count": 88,
   "id": "c17db672",
   "metadata": {},
   "outputs": [],
   "source": [
    "lst.popfront()"
   ]
  },
  {
   "cell_type": "code",
   "execution_count": 89,
   "id": "e3e560a8",
   "metadata": {},
   "outputs": [
    {
     "name": "stdout",
     "output_type": "stream",
     "text": [
      "List = [5]\n"
     ]
    }
   ],
   "source": [
    "print(lst)"
   ]
  },
  {
   "cell_type": "code",
   "execution_count": 70,
   "id": "04f73d40",
   "metadata": {},
   "outputs": [],
   "source": [
    "lst.popfront()"
   ]
  },
  {
   "cell_type": "code",
   "execution_count": 71,
   "id": "e48d6cd0",
   "metadata": {},
   "outputs": [
    {
     "name": "stdout",
     "output_type": "stream",
     "text": [
      "List is empty!\n"
     ]
    }
   ],
   "source": [
    "print(lst)"
   ]
  },
  {
   "cell_type": "code",
   "execution_count": 94,
   "id": "ffec9de2",
   "metadata": {},
   "outputs": [
    {
     "data": {
      "text/plain": [
       "7"
      ]
     },
     "execution_count": 94,
     "metadata": {},
     "output_type": "execute_result"
    }
   ],
   "source": [
    "# test pushback\n",
    "lst2 = LinkedList()\n",
    "lst2.pushfront(5)\n",
    "lst2.pushback(7)\n",
    "lst2\n",
    "lst2.tail\n",
    "lst2.head\n",
    "lst2.topback()"
   ]
  },
  {
   "cell_type": "code",
   "execution_count": 95,
   "id": "343c99a8",
   "metadata": {},
   "outputs": [],
   "source": [
    "# test popback\n",
    "lst2.popback()"
   ]
  },
  {
   "cell_type": "code",
   "execution_count": 96,
   "id": "297d2c5a",
   "metadata": {},
   "outputs": [
    {
     "data": {
      "text/plain": [
       "List = [5]"
      ]
     },
     "execution_count": 96,
     "metadata": {},
     "output_type": "execute_result"
    }
   ],
   "source": [
    "lst2"
   ]
  },
  {
   "cell_type": "code",
   "execution_count": null,
   "id": "57d5a632",
   "metadata": {},
   "outputs": [],
   "source": []
  }
 ],
 "metadata": {
  "kernelspec": {
   "display_name": "Python 3",
   "language": "python",
   "name": "python3"
  },
  "language_info": {
   "codemirror_mode": {
    "name": "ipython",
    "version": 3
   },
   "file_extension": ".py",
   "mimetype": "text/x-python",
   "name": "python",
   "nbconvert_exporter": "python",
   "pygments_lexer": "ipython3",
   "version": "3.7.4"
  }
 },
 "nbformat": 4,
 "nbformat_minor": 5
}

{
 "cells": [
  {
   "cell_type": "code",
   "execution_count": 56,
   "id": "af2159e2",
   "metadata": {},
   "outputs": [],
   "source": [
    "class Heap:\n",
    "    def __init__(self, H = []):\n",
    "        n = len(H)\n",
    "        self.H = H\n",
    "        for i in range((n-1)//2, -1, -1):\n",
    "            self._siftDown(i)\n",
    "        \n",
    "    def _parent(self, i):\n",
    "        return (i-1)//2 if i > 0 else 0\n",
    "    \n",
    "    def _leftChild(self, i):\n",
    "        return 2*i+1\n",
    "    \n",
    "    def _rightChild(self, i):\n",
    "        return 2*i+2\n",
    "    \n",
    "    def _siftUp(self, i):\n",
    "        p = self._parent(i)\n",
    "        while i != p and self.H[i] > self.H[p]:\n",
    "            self.H[i], self.H[p] = self.H[p], self.H[i]\n",
    "            i, p = p, self._parent(p)\n",
    "            \n",
    "    def _siftDown(self, i):\n",
    "        l = self._leftChild(i)\n",
    "        r = self._rightChild(i)\n",
    "        idx = i\n",
    "        if l < len(self.H) and self.H[l] > self.H[i]:\n",
    "            idx = l \n",
    "        if r < len(self.H) and self.H[r] > self.H[idx]:\n",
    "            idx = r\n",
    "        if idx != i:\n",
    "            self.H[idx], self.H[i] = self.H[i], self.H[idx]\n",
    "            self._siftDown(idx)\n",
    "    \n",
    "    def insert(self, p):\n",
    "        self.H.append(p)\n",
    "        n = len(self.H)\n",
    "        self._siftUp(n-1)\n",
    "    \n",
    "    def extractMax(self):\n",
    "        result = self.H[0]\n",
    "        self.H[0] = self.H[-1]\n",
    "        self.H.pop()\n",
    "        self._siftDown(0)\n",
    "        return result\n",
    "    \n",
    "    def getMax(self):\n",
    "        return self.H[0]\n",
    "    \n",
    "    def remove(self, i):\n",
    "        self.H[i] = float('inf')\n",
    "        self._siftUp(i)\n",
    "        self.extractMax()\n",
    "    \n",
    "    def changePriority(self, i, p):\n",
    "        oldp = self.H[i]\n",
    "        self.H[i] = p\n",
    "        if p > oldp:\n",
    "            self._siftUp(i)\n",
    "        else:\n",
    "            self._siftDown(i)"
   ]
  },
  {
   "cell_type": "code",
   "execution_count": 24,
   "id": "5ac53b26",
   "metadata": {},
   "outputs": [],
   "source": [
    "heap = Heap()\n"
   ]
  },
  {
   "cell_type": "code",
   "execution_count": 25,
   "id": "9c8e1fe4",
   "metadata": {},
   "outputs": [],
   "source": [
    "heap.insert(5)\n",
    "heap.insert(7)\n",
    "heap.insert(12)\n",
    "heap.insert(9)\n",
    "heap.insert(15)\n",
    "heap.insert(3)\n",
    "heap.insert(4)\n",
    "heap.insert(8)\n",
    "heap.insert(1)"
   ]
  },
  {
   "cell_type": "code",
   "execution_count": 26,
   "id": "86f8094d",
   "metadata": {},
   "outputs": [
    {
     "data": {
      "text/plain": [
       "[15, 12, 7, 8, 9, 3, 4, 5, 1]"
      ]
     },
     "execution_count": 26,
     "metadata": {},
     "output_type": "execute_result"
    }
   ],
   "source": [
    "heap.H"
   ]
  },
  {
   "cell_type": "code",
   "execution_count": 27,
   "id": "1f8ebb36",
   "metadata": {},
   "outputs": [
    {
     "data": {
      "text/plain": [
       "[15, 12, 9, 8, 7, 5, 4, 3, 1]"
      ]
     },
     "execution_count": 27,
     "metadata": {},
     "output_type": "execute_result"
    }
   ],
   "source": [
    "sortedH = []\n",
    "n = len(heap.H)\n",
    "for i in range(n):\n",
    "    sortedH.append(heap.extractMax())\n",
    "sortedH "
   ]
  },
  {
   "cell_type": "code",
   "execution_count": 28,
   "id": "be4d83f3",
   "metadata": {},
   "outputs": [
    {
     "data": {
      "text/plain": [
       "[]"
      ]
     },
     "execution_count": 28,
     "metadata": {},
     "output_type": "execute_result"
    }
   ],
   "source": [
    "heap.H"
   ]
  },
  {
   "cell_type": "code",
   "execution_count": 57,
   "id": "0b3f8f13",
   "metadata": {},
   "outputs": [],
   "source": [
    "H = [1,3,19,4,20,7,8,12]\n",
    "h = Heap(H)"
   ]
  },
  {
   "cell_type": "code",
   "execution_count": 58,
   "id": "86187fb4",
   "metadata": {},
   "outputs": [
    {
     "data": {
      "text/plain": [
       "[20, 12, 19, 4, 3, 7, 8, 1]"
      ]
     },
     "execution_count": 58,
     "metadata": {},
     "output_type": "execute_result"
    }
   ],
   "source": [
    "h.H"
   ]
  },
  {
   "cell_type": "code",
   "execution_count": 61,
   "id": "3b4c2ac4",
   "metadata": {},
   "outputs": [
    {
     "data": {
      "text/plain": [
       "['__about__',\n",
       " '__all__',\n",
       " '__builtins__',\n",
       " '__cached__',\n",
       " '__doc__',\n",
       " '__file__',\n",
       " '__loader__',\n",
       " '__name__',\n",
       " '__package__',\n",
       " '__spec__',\n",
       " '_heapify_max',\n",
       " '_heappop_max',\n",
       " '_heapreplace_max',\n",
       " '_siftdown',\n",
       " '_siftdown_max',\n",
       " '_siftup',\n",
       " '_siftup_max',\n",
       " 'heapify',\n",
       " 'heappop',\n",
       " 'heappush',\n",
       " 'heappushpop',\n",
       " 'heapreplace',\n",
       " 'merge',\n",
       " 'nlargest',\n",
       " 'nsmallest']"
      ]
     },
     "execution_count": 61,
     "metadata": {},
     "output_type": "execute_result"
    }
   ],
   "source": [
    "import heapq\n",
    "dir(heapq)"
   ]
  },
  {
   "cell_type": "code",
   "execution_count": 69,
   "id": "a7bc46f6",
   "metadata": {},
   "outputs": [],
   "source": [
    "h = [1,3,19,4,20,7,8,12]\n",
    "# construct max heap from min heap\n",
    "h_neg = [p * (-1) for p in h]\n",
    "heapq.heapify(h_neg)"
   ]
  },
  {
   "cell_type": "code",
   "execution_count": 72,
   "id": "a5395196",
   "metadata": {},
   "outputs": [
    {
     "data": {
      "text/plain": [
       "20"
      ]
     },
     "execution_count": 72,
     "metadata": {},
     "output_type": "execute_result"
    }
   ],
   "source": [
    "# extract max\n",
    "heapq.heappop(h_neg) * (-1)"
   ]
  },
  {
   "cell_type": "code",
   "execution_count": 73,
   "id": "8a550aa2",
   "metadata": {},
   "outputs": [],
   "source": [
    "heapq.heappush(h_neg, 10 * (-1))"
   ]
  },
  {
   "cell_type": "code",
   "execution_count": 74,
   "id": "dfb04a31",
   "metadata": {},
   "outputs": [
    {
     "data": {
      "text/plain": [
       "[-19, -12, -8, -10, -3, -7, -1, -4]"
      ]
     },
     "execution_count": 74,
     "metadata": {},
     "output_type": "execute_result"
    }
   ],
   "source": [
    "h_neg"
   ]
  },
  {
   "cell_type": "code",
   "execution_count": null,
   "id": "2883c235",
   "metadata": {},
   "outputs": [],
   "source": []
  }
 ],
 "metadata": {
  "kernelspec": {
   "display_name": "Python 3",
   "language": "python",
   "name": "python3"
  },
  "language_info": {
   "codemirror_mode": {
    "name": "ipython",
    "version": 3
   },
   "file_extension": ".py",
   "mimetype": "text/x-python",
   "name": "python",
   "nbconvert_exporter": "python",
   "pygments_lexer": "ipython3",
   "version": "3.7.4"
  }
 },
 "nbformat": 4,
 "nbformat_minor": 5
}

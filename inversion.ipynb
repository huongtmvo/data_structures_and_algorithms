{
 "cells": [
  {
   "cell_type": "code",
   "execution_count": 48,
   "id": "e54199c9",
   "metadata": {},
   "outputs": [],
   "source": [
    "#### Merge sort:\n",
    "def merge_and_count(left, right):  \n",
    "    i = j = inversion = 0\n",
    "    final = []\n",
    "    while i < len(left) and j < len(right):\n",
    "        if left[i] <= right[j]:\n",
    "            final.append(left[i])\n",
    "            i += 1\n",
    "        else:\n",
    "            final.append(right[j])\n",
    "            inversion += len(left) - i\n",
    "            j += 1\n",
    "        \n",
    "    final += left[i:]\n",
    "    final += right[j:]\n",
    "    return final, inversion\n",
    "\n",
    "def count_inversion(nums):\n",
    "    if len(nums) <= 1:\n",
    "        return nums, 0\n",
    "    \n",
    "    mid = len(nums)//2\n",
    "    left_array, left_count = count_inversion(nums[:mid])\n",
    "    right_array, right_count = count_inversion(nums[mid:])\n",
    "    \n",
    "    sorted_array, inversion = merge_and_count(left_array, right_array)\n",
    "    \n",
    "    return sorted_array, left_count + right_count + inversion"
   ]
  },
  {
   "cell_type": "code",
   "execution_count": 49,
   "id": "659d8649",
   "metadata": {},
   "outputs": [
    {
     "data": {
      "text/plain": [
       "([0, 1, 2, 2, 3, 9], 6)"
      ]
     },
     "execution_count": 49,
     "metadata": {},
     "output_type": "execute_result"
    }
   ],
   "source": [
    "A = [2,3,1,0,2,9]\n",
    "count_inversion(A)"
   ]
  },
  {
   "cell_type": "code",
   "execution_count": null,
   "id": "34e7141f",
   "metadata": {},
   "outputs": [],
   "source": []
  }
 ],
 "metadata": {
  "kernelspec": {
   "display_name": "Python 3",
   "language": "python",
   "name": "python3"
  },
  "language_info": {
   "codemirror_mode": {
    "name": "ipython",
    "version": 3
   },
   "file_extension": ".py",
   "mimetype": "text/x-python",
   "name": "python",
   "nbconvert_exporter": "python",
   "pygments_lexer": "ipython3",
   "version": "3.7.4"
  }
 },
 "nbformat": 4,
 "nbformat_minor": 5
}

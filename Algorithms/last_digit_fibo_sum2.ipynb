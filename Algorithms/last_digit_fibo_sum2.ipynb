{
 "cells": [
  {
   "cell_type": "markdown",
   "id": "48707059",
   "metadata": {},
   "source": [
    "#### Find the partial sum of Fibonacci numbers"
   ]
  },
  {
   "cell_type": "markdown",
   "id": "fc823da6",
   "metadata": {},
   "source": [
    "* Task. Given two non-negative integers 𝑚 and 𝑛, where 𝑚 ≤ 𝑛, find the last digit of the sum 𝐹𝑚 + 𝐹𝑚+1 +\n",
    "· · · + 𝐹𝑛.\n",
    "* Input Format. The input consists of two non-negative integers 𝑚 and 𝑛 separated by a space.\n",
    "* Constraints. 0 ≤ 𝑚 ≤ 𝑛 ≤ 1014\n",
    "* Output Format. Output the last digit of 𝐹𝑚 + 𝐹𝑚+1 + · · · + 𝐹𝑛."
   ]
  },
  {
   "cell_type": "markdown",
   "id": "d7e01977",
   "metadata": {},
   "source": [
    "#### Solution:"
   ]
  },
  {
   "cell_type": "markdown",
   "id": "b4a6e684",
   "metadata": {},
   "source": [
    "S(n) = F(0) + F(1)+ ... + F(m) + F(m+1) + ... + F(n) = F(n + 2) - 1\n",
    "\n",
    "S(m) = F(0) + F(1)+ ... + F(m) = F(m + 2) - 1\n",
    "\n",
    "F(m) + F(m+1) + ... + F(n) = S(n) - S(m) + F(m) = F(n+2) - F(m+2) + F(m)\n",
    "\n",
    "To find the last digit of this sum, we are going to find the sum of the last digits of each items mod 10"
   ]
  },
  {
   "cell_type": "code",
   "execution_count": 21,
   "id": "aa72a3f7",
   "metadata": {},
   "outputs": [],
   "source": [
    "def ld_fibo(m, n):   \n",
    "    def get_10period(mod_list):\n",
    "        pre, cur = 0, 1\n",
    "        mod_list.extend([pre,cur])\n",
    "        for i in range(0, 100):\n",
    "            pre, cur = cur, (pre + cur) % 10\n",
    "            mod_list.append(cur)\n",
    "            if pre == 0 and cur == 1:\n",
    "                return i + 1\n",
    "    mod_list = []\n",
    "    period = get_10period(mod_list)\n",
    "    \n",
    "    locm = m % period\n",
    "    locn2 = (n + 2) % period\n",
    "    locm2 = (m + 2) % period\n",
    "\n",
    "    digit = (mod_list[locn2] - mod_list[locm2] + mod_list[locm]) % 10 \n",
    "    return digit"
   ]
  },
  {
   "cell_type": "code",
   "execution_count": 22,
   "id": "abbd24cd",
   "metadata": {},
   "outputs": [
    {
     "data": {
      "text/plain": [
       "5"
      ]
     },
     "execution_count": 22,
     "metadata": {},
     "output_type": "execute_result"
    }
   ],
   "source": [
    "ld_fibo(10,10)"
   ]
  },
  {
   "cell_type": "code",
   "execution_count": 23,
   "id": "cd2a0b86",
   "metadata": {},
   "outputs": [
    {
     "data": {
      "text/plain": [
       "2"
      ]
     },
     "execution_count": 23,
     "metadata": {},
     "output_type": "execute_result"
    }
   ],
   "source": [
    "ld_fibo(10, 200)"
   ]
  },
  {
   "cell_type": "code",
   "execution_count": null,
   "id": "957c4043",
   "metadata": {},
   "outputs": [],
   "source": []
  }
 ],
 "metadata": {
  "kernelspec": {
   "display_name": "Python 3",
   "language": "python",
   "name": "python3"
  },
  "language_info": {
   "codemirror_mode": {
    "name": "ipython",
    "version": 3
   },
   "file_extension": ".py",
   "mimetype": "text/x-python",
   "name": "python",
   "nbconvert_exporter": "python",
   "pygments_lexer": "ipython3",
   "version": "3.7.4"
  }
 },
 "nbformat": 4,
 "nbformat_minor": 5
}

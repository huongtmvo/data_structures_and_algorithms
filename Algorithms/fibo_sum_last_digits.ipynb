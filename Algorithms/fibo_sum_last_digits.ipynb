{
 "cells": [
  {
   "cell_type": "markdown",
   "id": "52c207c2",
   "metadata": {},
   "source": [
    "#### Find the last digit of sum of Fibonacci numbers"
   ]
  },
  {
   "cell_type": "markdown",
   "id": "b91b661c",
   "metadata": {},
   "source": [
    "* Task. Given an integer 𝑛, find the last digit of the sum 𝐹0 + 𝐹1 + · · · + 𝐹𝑛.\n",
    "* Input Format. The input consists of a single integer 𝑛.\n",
    "* Constraints. 0 ≤ 𝑛 ≤ 1014\n",
    "* Output Format. Output the last digit of 𝐹0 + 𝐹1 + · · · + 𝐹𝑛."
   ]
  },
  {
   "cell_type": "markdown",
   "id": "5065e57a",
   "metadata": {},
   "source": [
    "#### Solution"
   ]
  },
  {
   "cell_type": "markdown",
   "id": "411f46d8",
   "metadata": {},
   "source": [
    "We have that S(n) = F(n+2) - 1\n",
    "So intead of calculating the last digit of sum Fibonacci of n. We calculate (F(n+2) - 1) mod 10\n",
    "\n",
    "We know that when a fibonacci number mod 10, the remainders will be periodic."
   ]
  },
  {
   "cell_type": "code",
   "execution_count": 25,
   "id": "0661cb55",
   "metadata": {},
   "outputs": [],
   "source": [
    "def fibo_last_digits(n):\n",
    "    def get_period(m, mod_list):\n",
    "        pre, cur = 0, 1\n",
    "        mod_list.extend([pre,cur])\n",
    "        for i in range(0, m * m):\n",
    "            pre, cur = cur, (pre + cur) % m\n",
    "            mod_list.append(cur)\n",
    "            if pre == 0 and cur == 1:\n",
    "                return i + 1\n",
    "    mod_list = []\n",
    "    period = get_period(10, mod_list)\n",
    "    loc = (n + 2) % period\n",
    "    return (mod_list[loc] + 10 - 1) % 10 # This to avoid when negative when loc = 0"
   ]
  },
  {
   "cell_type": "code",
   "execution_count": 23,
   "id": "3dbbf992",
   "metadata": {},
   "outputs": [
    {
     "data": {
      "text/plain": [
       "4"
      ]
     },
     "execution_count": 23,
     "metadata": {},
     "output_type": "execute_result"
    }
   ],
   "source": [
    "fibo_last_digits(3)"
   ]
  },
  {
   "cell_type": "code",
   "execution_count": 24,
   "id": "7829c012",
   "metadata": {},
   "outputs": [
    {
     "data": {
      "text/plain": [
       "5"
      ]
     },
     "execution_count": 24,
     "metadata": {},
     "output_type": "execute_result"
    }
   ],
   "source": [
    "fibo_last_digits(100)"
   ]
  },
  {
   "cell_type": "code",
   "execution_count": null,
   "id": "021c2d4d",
   "metadata": {},
   "outputs": [],
   "source": []
  }
 ],
 "metadata": {
  "kernelspec": {
   "display_name": "Python 3",
   "language": "python",
   "name": "python3"
  },
  "language_info": {
   "codemirror_mode": {
    "name": "ipython",
    "version": 3
   },
   "file_extension": ".py",
   "mimetype": "text/x-python",
   "name": "python",
   "nbconvert_exporter": "python",
   "pygments_lexer": "ipython3",
   "version": "3.7.4"
  }
 },
 "nbformat": 4,
 "nbformat_minor": 5
}

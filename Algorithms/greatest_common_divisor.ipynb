{
 "cells": [
  {
   "cell_type": "markdown",
   "id": "41ee8d91",
   "metadata": {},
   "source": [
    "#### Find the greatest common divisors of 2 integers a and b"
   ]
  },
  {
   "cell_type": "markdown",
   "id": "4434aab9",
   "metadata": {},
   "source": [
    "Euclidian Algorithm\n",
    "gcd(a,b) = gcd(a',b) = gcd(b,a')\n",
    "\n",
    "for a' = a % b"
   ]
  },
  {
   "cell_type": "code",
   "execution_count": 35,
   "id": "ba838c72",
   "metadata": {},
   "outputs": [],
   "source": [
    "def gcd(a,b):\n",
    "    if b == 0:\n",
    "        return a\n",
    "    return gcd(b,a%b)"
   ]
  },
  {
   "cell_type": "code",
   "execution_count": 29,
   "id": "4529d36c",
   "metadata": {},
   "outputs": [
    {
     "data": {
      "text/plain": [
       "3"
      ]
     },
     "execution_count": 29,
     "metadata": {},
     "output_type": "execute_result"
    }
   ],
   "source": [
    "a = 357 ; b = 234\n",
    "gcd(357,234)"
   ]
  },
  {
   "cell_type": "code",
   "execution_count": 30,
   "id": "3c440d3f",
   "metadata": {},
   "outputs": [
    {
     "data": {
      "text/plain": [
       "61232"
      ]
     },
     "execution_count": 30,
     "metadata": {},
     "output_type": "execute_result"
    }
   ],
   "source": [
    "a = 3918848\n",
    "b = 1653264\n",
    "gcd(a,b)"
   ]
  },
  {
   "cell_type": "code",
   "execution_count": 31,
   "id": "5dff0c63",
   "metadata": {},
   "outputs": [
    {
     "data": {
      "text/plain": [
       "100"
      ]
     },
     "execution_count": 31,
     "metadata": {},
     "output_type": "execute_result"
    }
   ],
   "source": [
    "a = 0\n",
    "b = 100\n",
    "gcd(a,b)"
   ]
  },
  {
   "cell_type": "code",
   "execution_count": 32,
   "id": "a6a706d0",
   "metadata": {},
   "outputs": [
    {
     "data": {
      "text/plain": [
       "100"
      ]
     },
     "execution_count": 32,
     "metadata": {},
     "output_type": "execute_result"
    }
   ],
   "source": [
    "a = 100; b = 0\n",
    "gcd(a,b)"
   ]
  },
  {
   "cell_type": "code",
   "execution_count": 33,
   "id": "af8faee3",
   "metadata": {},
   "outputs": [
    {
     "data": {
      "text/plain": [
       "32"
      ]
     },
     "execution_count": 33,
     "metadata": {},
     "output_type": "execute_result"
    }
   ],
   "source": [
    "gcd(128,32)"
   ]
  },
  {
   "cell_type": "code",
   "execution_count": 34,
   "id": "a93e3497",
   "metadata": {},
   "outputs": [
    {
     "data": {
      "text/plain": [
       "3"
      ]
     },
     "execution_count": 34,
     "metadata": {},
     "output_type": "execute_result"
    }
   ],
   "source": [
    "gcd(12,3)"
   ]
  },
  {
   "cell_type": "code",
   "execution_count": 36,
   "id": "d40c26d7",
   "metadata": {},
   "outputs": [],
   "source": [
    "def gcd(a, b):\n",
    "    return gcd(b, a%b) if b != 0 else a"
   ]
  },
  {
   "cell_type": "code",
   "execution_count": 38,
   "id": "b2a635b1",
   "metadata": {},
   "outputs": [
    {
     "name": "stdout",
     "output_type": "stream",
     "text": [
      "12 20\n"
     ]
    },
    {
     "data": {
      "text/plain": [
       "'12 20'"
      ]
     },
     "execution_count": 38,
     "metadata": {},
     "output_type": "execute_result"
    }
   ],
   "source": [
    "input()"
   ]
  },
  {
   "cell_type": "code",
   "execution_count": 40,
   "id": "f856e413",
   "metadata": {},
   "outputs": [
    {
     "data": {
      "text/plain": [
       "''"
      ]
     },
     "execution_count": 40,
     "metadata": {},
     "output_type": "execute_result"
    }
   ],
   "source": [
    "import sys \n",
    "sys.stdin.read()"
   ]
  },
  {
   "cell_type": "code",
   "execution_count": null,
   "id": "feee2d87",
   "metadata": {},
   "outputs": [],
   "source": []
  }
 ],
 "metadata": {
  "kernelspec": {
   "display_name": "Python 3",
   "language": "python",
   "name": "python3"
  },
  "language_info": {
   "codemirror_mode": {
    "name": "ipython",
    "version": 3
   },
   "file_extension": ".py",
   "mimetype": "text/x-python",
   "name": "python",
   "nbconvert_exporter": "python",
   "pygments_lexer": "ipython3",
   "version": "3.7.4"
  }
 },
 "nbformat": 4,
 "nbformat_minor": 5
}

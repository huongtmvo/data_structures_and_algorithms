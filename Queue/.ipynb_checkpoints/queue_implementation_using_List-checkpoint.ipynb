{
 "cells": [
  {
   "cell_type": "code",
   "execution_count": 1,
   "id": "cab12999",
   "metadata": {},
   "outputs": [],
   "source": [
    "class Queue:\n",
    "    def __init__(self, size = 2000):\n",
    "        self.q = [None]*size\n",
    "        self.capacity = size\n",
    "        self.front = 0 \n",
    "        self.rear = -1\n",
    "        self.count = 0 # current size of the queue\n",
    "    \n",
    "    def size(self):\n",
    "        return self.count\n",
    "        \n",
    "    def isEmpty(self):\n",
    "        return self.size() == 0\n",
    "    \n",
    "    def isFull(self):\n",
    "        return self.size() == self.capacity\n",
    "    \n",
    "    \n",
    "    def enqueue(self, item):\n",
    "        if self.isFull():\n",
    "            raise Exception(\"Queue is overflow\")\n",
    "        self.rear = (self.rear + 1) % self.capacity\n",
    "        self.q[self.rear] = item\n",
    "        self.count += 1\n",
    "    \n",
    "    def dequeue(self):\n",
    "        if self.isEmpty():\n",
    "            raise Exception(\"Cannot dequeue an empty queue\")\n",
    "        x = self.q[self.front]\n",
    "        self.front = (self.front + 1) % self.capacity\n",
    "        self.count -= 1\n",
    "        return x\n",
    "    \n",
    "    def peek(self):\n",
    "        if self.isEmpty():\n",
    "            raise Exception(\"Queue is empty\")\n",
    "        return self.q[self.front]"
   ]
  },
  {
   "cell_type": "code",
   "execution_count": null,
   "id": "b339658f",
   "metadata": {},
   "outputs": [],
   "source": []
  }
 ],
 "metadata": {
  "kernelspec": {
   "display_name": "Python 3",
   "language": "python",
   "name": "python3"
  },
  "language_info": {
   "codemirror_mode": {
    "name": "ipython",
    "version": 3
   },
   "file_extension": ".py",
   "mimetype": "text/x-python",
   "name": "python",
   "nbconvert_exporter": "python",
   "pygments_lexer": "ipython3",
   "version": "3.7.4"
  }
 },
 "nbformat": 4,
 "nbformat_minor": 5
}

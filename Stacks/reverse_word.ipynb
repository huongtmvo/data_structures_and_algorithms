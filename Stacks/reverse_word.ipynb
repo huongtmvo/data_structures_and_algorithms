{
 "cells": [
  {
   "cell_type": "markdown",
   "id": "d63cd258",
   "metadata": {},
   "source": [
    "Reverse a word using stacks\n",
    "\n",
    "Example: \n",
    "s = 'homerun'\n",
    "return 'nuremoh'"
   ]
  },
  {
   "cell_type": "code",
   "execution_count": 9,
   "id": "01c80017",
   "metadata": {},
   "outputs": [],
   "source": [
    "\n",
    "def reverse_word(s):\n",
    "    stack = []\n",
    "    res = []\n",
    "    for c in s:\n",
    "        stack.append(c)\n",
    "    while len(stack) != 0:\n",
    "        res.append(stack.pop())\n",
    "    return ''.join(res)"
   ]
  },
  {
   "cell_type": "code",
   "execution_count": 10,
   "id": "866493c5",
   "metadata": {},
   "outputs": [
    {
     "data": {
      "text/plain": [
       "'nuremoh'"
      ]
     },
     "execution_count": 10,
     "metadata": {},
     "output_type": "execute_result"
    }
   ],
   "source": [
    "s = 'homerun'\n",
    "reverse_word(s)"
   ]
  },
  {
   "cell_type": "code",
   "execution_count": 12,
   "id": "59628b37",
   "metadata": {},
   "outputs": [],
   "source": [
    "# Another way, not using stack\n",
    "def reverse_word2(s):\n",
    "    res = []\n",
    "    for c in s[::-1]:\n",
    "        res.append(c)\n",
    "    return ''.join(res)"
   ]
  },
  {
   "cell_type": "code",
   "execution_count": 13,
   "id": "c7743713",
   "metadata": {},
   "outputs": [
    {
     "data": {
      "text/plain": [
       "'nuremoh'"
      ]
     },
     "execution_count": 13,
     "metadata": {},
     "output_type": "execute_result"
    }
   ],
   "source": [
    "s = 'homerun'\n",
    "reverse_word2(s)"
   ]
  },
  {
   "cell_type": "code",
   "execution_count": null,
   "id": "37f0c4b3",
   "metadata": {},
   "outputs": [],
   "source": []
  }
 ],
 "metadata": {
  "kernelspec": {
   "display_name": "Python 3",
   "language": "python",
   "name": "python3"
  },
  "language_info": {
   "codemirror_mode": {
    "name": "ipython",
    "version": 3
   },
   "file_extension": ".py",
   "mimetype": "text/x-python",
   "name": "python",
   "nbconvert_exporter": "python",
   "pygments_lexer": "ipython3",
   "version": "3.7.4"
  }
 },
 "nbformat": 4,
 "nbformat_minor": 5
}

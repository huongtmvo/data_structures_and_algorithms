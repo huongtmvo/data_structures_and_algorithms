{
 "cells": [
  {
   "cell_type": "code",
   "execution_count": 18,
   "id": "ba2d9431",
   "metadata": {},
   "outputs": [],
   "source": [
    "class Node:\n",
    "    def __init__(self, key):\n",
    "        self.key = key\n",
    "        self.next = None\n",
    "        self.prev = None\n",
    "        \n",
    "    def __str__(self):\n",
    "        return str(self.key)\n",
    "    \n",
    "    def __repr__(self):\n",
    "        return self.__str__()\n",
    "        \n",
    "class DoublyLinkedList:\n",
    "    def __init__(self):\n",
    "        self.head = None\n",
    "        self.tail = None\n",
    "    \n",
    "    def pushfront(self, key):\n",
    "        node = Node(key)\n",
    "        if self.head == None:\n",
    "            self.head = self.tail = node\n",
    "        else:\n",
    "            node.next = self.head\n",
    "            self.head.prev = node\n",
    "            self.head = node\n",
    "            \n",
    "    def topfront(self):\n",
    "        return self.head\n",
    "\n",
    "    def popfront(self):\n",
    "        if self.head == None:\n",
    "            raise Exception(\"Cannot perform popfront on empty list\")\n",
    "        elif self.head == self.tail:\n",
    "            self.head = self.tail = None\n",
    "        else:\n",
    "            self.head = self.head.next\n",
    "            self.head.prev = None\n",
    "        \n",
    "    def pushback(self, key):\n",
    "        node = Node(key)\n",
    "        if self.head == None:\n",
    "            self.head = self.tail = node\n",
    "        else:\n",
    "            self.tail.next = node\n",
    "            node.prev = self.tail\n",
    "            self.tail = node\n",
    "            \n",
    "    def topback(self):\n",
    "        return self.tail\n",
    "    \n",
    "    def popback(self):\n",
    "        if self.head == None:\n",
    "            raise Exception(\"Cannot perform popback on empty list\")\n",
    "        elif self.head == self.tail:\n",
    "            self.head = self.tail = None\n",
    "        else:\n",
    "            self.tail = self.tail.prev\n",
    "            self.tail.next = None\n",
    "            \n",
    "    def find(self, key):\n",
    "        if self.head == None:\n",
    "            return False\n",
    "        cur = self.head\n",
    "        while cur:\n",
    "            if cur.key == key:\n",
    "                return True\n",
    "            cur = cur.next\n",
    "        return False\n",
    "    \n",
    "    def erase(self, key):\n",
    "        if self.head == None:\n",
    "            return False\n",
    "        elif self.head.key == key:\n",
    "            self.popfront()\n",
    "            return True\n",
    "        else:\n",
    "            cur = self.head.next\n",
    "            while cur:\n",
    "                if cur.key == key:\n",
    "                    prev = cur.prev\n",
    "                    prev.next = cur.next \n",
    "                    cur.next.prev = prev\n",
    "                    return True\n",
    "                cur = cur.next\n",
    "            return False       \n",
    "    \n",
    "    def empty(self):\n",
    "        return self.head == None\n",
    "    \n",
    "    def addbefore(self, node, key):\n",
    "        new_node = Node(key)\n",
    "        new_node.next = node\n",
    "        node.prev = new_node\n",
    "        if self.head == node:\n",
    "            self.head = new_node\n",
    "        else:\n",
    "            new_node.prev = node.prev\n",
    "            node.prev.next = new_node\n",
    "    \n",
    "    def addafter(self, node, key):\n",
    "        new_node = Node(key)\n",
    "        node.next = new_node\n",
    "        new_node.prev = node\n",
    "        if node == self.tail:\n",
    "            self.tail = new_node    \n",
    "            \n",
    "    def __str__(self):\n",
    "        cur = self.head\n",
    "        res = []\n",
    "        while cur:\n",
    "            res.append(str(cur.key))\n",
    "            cur = cur.next\n",
    "        return f\"List = [{', '.join(res)}]\"\n",
    "    \n",
    "    def __repr__(self):\n",
    "        return self.__str__()\n",
    "        "
   ]
  },
  {
   "cell_type": "code",
   "execution_count": 19,
   "id": "ce4d7e1d",
   "metadata": {},
   "outputs": [
    {
     "data": {
      "text/plain": [
       "List = [4, 7]"
      ]
     },
     "execution_count": 19,
     "metadata": {},
     "output_type": "execute_result"
    }
   ],
   "source": [
    "dls = DoublyLinkedList()\n",
    "dls.pushfront(4)\n",
    "dls.pushback(7)\n",
    "dls"
   ]
  },
  {
   "cell_type": "code",
   "execution_count": 20,
   "id": "4632a18f",
   "metadata": {},
   "outputs": [
    {
     "data": {
      "text/plain": [
       "List = [7]"
      ]
     },
     "execution_count": 20,
     "metadata": {},
     "output_type": "execute_result"
    }
   ],
   "source": [
    "dls.popfront()\n",
    "dls"
   ]
  },
  {
   "cell_type": "code",
   "execution_count": 21,
   "id": "61ac2970",
   "metadata": {},
   "outputs": [
    {
     "data": {
      "text/plain": [
       "True"
      ]
     },
     "execution_count": 21,
     "metadata": {},
     "output_type": "execute_result"
    }
   ],
   "source": [
    "dls.erase(7)"
   ]
  },
  {
   "cell_type": "code",
   "execution_count": 22,
   "id": "d0ce3f9b",
   "metadata": {},
   "outputs": [
    {
     "data": {
      "text/plain": [
       "List = []"
      ]
     },
     "execution_count": 22,
     "metadata": {},
     "output_type": "execute_result"
    }
   ],
   "source": [
    "dls"
   ]
  },
  {
   "cell_type": "code",
   "execution_count": 23,
   "id": "2526f924",
   "metadata": {},
   "outputs": [],
   "source": [
    "dls.pushback(9)"
   ]
  },
  {
   "cell_type": "code",
   "execution_count": 24,
   "id": "d75cdfba",
   "metadata": {},
   "outputs": [],
   "source": [
    "dls.addbefore(dls.head,7)"
   ]
  },
  {
   "cell_type": "code",
   "execution_count": 25,
   "id": "b945c7c3",
   "metadata": {},
   "outputs": [
    {
     "data": {
      "text/plain": [
       "List = [7, 9]"
      ]
     },
     "execution_count": 25,
     "metadata": {},
     "output_type": "execute_result"
    }
   ],
   "source": [
    "dls"
   ]
  },
  {
   "cell_type": "code",
   "execution_count": 26,
   "id": "c32d788e",
   "metadata": {},
   "outputs": [
    {
     "data": {
      "text/plain": [
       "List = [7, 9, 6]"
      ]
     },
     "execution_count": 26,
     "metadata": {},
     "output_type": "execute_result"
    }
   ],
   "source": [
    "dls.addafter(dls.tail,6)\n",
    "dls"
   ]
  },
  {
   "cell_type": "code",
   "execution_count": 27,
   "id": "d58b53f2",
   "metadata": {},
   "outputs": [
    {
     "data": {
      "text/plain": [
       "True"
      ]
     },
     "execution_count": 27,
     "metadata": {},
     "output_type": "execute_result"
    }
   ],
   "source": [
    "dls.find(6)"
   ]
  },
  {
   "cell_type": "code",
   "execution_count": 28,
   "id": "bd3001f0",
   "metadata": {},
   "outputs": [
    {
     "data": {
      "text/plain": [
       "False"
      ]
     },
     "execution_count": 28,
     "metadata": {},
     "output_type": "execute_result"
    }
   ],
   "source": [
    "dls.find(0)"
   ]
  },
  {
   "cell_type": "code",
   "execution_count": 29,
   "id": "27986674",
   "metadata": {},
   "outputs": [],
   "source": [
    "dls.popback()"
   ]
  },
  {
   "cell_type": "code",
   "execution_count": 30,
   "id": "e117aa09",
   "metadata": {},
   "outputs": [
    {
     "data": {
      "text/plain": [
       "List = [7, 9]"
      ]
     },
     "execution_count": 30,
     "metadata": {},
     "output_type": "execute_result"
    }
   ],
   "source": [
    "dls"
   ]
  },
  {
   "cell_type": "code",
   "execution_count": 32,
   "id": "b7651222",
   "metadata": {},
   "outputs": [
    {
     "data": {
      "text/plain": [
       "List = [7]"
      ]
     },
     "execution_count": 32,
     "metadata": {},
     "output_type": "execute_result"
    }
   ],
   "source": [
    "dls.popback()\n",
    "dls"
   ]
  },
  {
   "cell_type": "code",
   "execution_count": null,
   "id": "18578347",
   "metadata": {},
   "outputs": [],
   "source": []
  }
 ],
 "metadata": {
  "kernelspec": {
   "display_name": "Python 3",
   "language": "python",
   "name": "python3"
  },
  "language_info": {
   "codemirror_mode": {
    "name": "ipython",
    "version": 3
   },
   "file_extension": ".py",
   "mimetype": "text/x-python",
   "name": "python",
   "nbconvert_exporter": "python",
   "pygments_lexer": "ipython3",
   "version": "3.7.4"
  }
 },
 "nbformat": 4,
 "nbformat_minor": 5
}

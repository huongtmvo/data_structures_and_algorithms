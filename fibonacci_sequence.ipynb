{
 "cells": [
  {
   "cell_type": "markdown",
   "id": "c165729d",
   "metadata": {},
   "source": [
    "#### Fibonnaci sequence:\n",
    "Definition:\n",
    "\n",
    "F(0) = 0\n",
    "\n",
    "F(1) = 1\n",
    "\n",
    "F(n) = F(n-1) + F(n-2)\n",
    "\n",
    "\n",
    "Find F(n) given n "
   ]
  },
  {
   "cell_type": "code",
   "execution_count": 11,
   "id": "5bfc4c5b",
   "metadata": {},
   "outputs": [],
   "source": [
    "def fibonacci(n):\n",
    "    fibo = [0,1]\n",
    "    for _ in range(n):\n",
    "        fibo.append(fibo[-1] + fibo[-2])\n",
    "    return fibo[n]"
   ]
  },
  {
   "cell_type": "code",
   "execution_count": 13,
   "id": "64011811",
   "metadata": {},
   "outputs": [
    {
     "data": {
      "text/plain": [
       "13"
      ]
     },
     "execution_count": 13,
     "metadata": {},
     "output_type": "execute_result"
    }
   ],
   "source": [
    "fibonacci(7)"
   ]
  },
  {
   "cell_type": "code",
   "execution_count": 22,
   "id": "7d8a0b87",
   "metadata": {},
   "outputs": [
    {
     "data": {
      "text/plain": [
       "354224848179261915075"
      ]
     },
     "execution_count": 22,
     "metadata": {},
     "output_type": "execute_result"
    }
   ],
   "source": [
    "fibonacci(100)"
   ]
  },
  {
   "cell_type": "markdown",
   "id": "1a6a96b4",
   "metadata": {},
   "source": [
    "#### Find the last digit of the fibonacci sequence"
   ]
  },
  {
   "cell_type": "code",
   "execution_count": 20,
   "id": "0b301e06",
   "metadata": {},
   "outputs": [],
   "source": [
    "def last_digit_fibo(n):\n",
    "    fibod = [0,1]\n",
    "    for _ in range(n):\n",
    "        d = (fibod[-1] + fibod[-2]) % 10\n",
    "        fibod.append(d)\n",
    "    return fibod[n]"
   ]
  },
  {
   "cell_type": "code",
   "execution_count": 21,
   "id": "dc08b08d",
   "metadata": {},
   "outputs": [
    {
     "data": {
      "text/plain": [
       "3"
      ]
     },
     "execution_count": 21,
     "metadata": {},
     "output_type": "execute_result"
    }
   ],
   "source": [
    "last_digit_fibo(7)"
   ]
  },
  {
   "cell_type": "code",
   "execution_count": 23,
   "id": "9cf950ae",
   "metadata": {},
   "outputs": [
    {
     "data": {
      "text/plain": [
       "5"
      ]
     },
     "execution_count": 23,
     "metadata": {},
     "output_type": "execute_result"
    }
   ],
   "source": [
    "last_digit_fibo(100)"
   ]
  },
  {
   "cell_type": "code",
   "execution_count": null,
   "id": "417ec731",
   "metadata": {},
   "outputs": [],
   "source": []
  }
 ],
 "metadata": {
  "kernelspec": {
   "display_name": "Python 3",
   "language": "python",
   "name": "python3"
  },
  "language_info": {
   "codemirror_mode": {
    "name": "ipython",
    "version": 3
   },
   "file_extension": ".py",
   "mimetype": "text/x-python",
   "name": "python",
   "nbconvert_exporter": "python",
   "pygments_lexer": "ipython3",
   "version": "3.7.4"
  }
 },
 "nbformat": 4,
 "nbformat_minor": 5
}

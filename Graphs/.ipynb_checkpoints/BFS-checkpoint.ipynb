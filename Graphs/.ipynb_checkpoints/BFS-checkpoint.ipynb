{
 "cells": [
  {
   "cell_type": "code",
   "execution_count": null,
   "metadata": {
    "id": "3MZftotAPtvV"
   },
   "outputs": [],
   "source": [
    "# graph representation\n",
    "adj_list = {\n",
    "    0: [1,2,3,4],\n",
    "    1: [5],\n",
    "    2: [5],\n",
    "    3: [],\n",
    "    4: [],\n",
    "    5: [6],\n",
    "    6: []\n",
    "}"
   ]
  },
  {
   "cell_type": "code",
   "execution_count": null,
   "metadata": {
    "id": "LURe1imVPzwr"
   },
   "outputs": [],
   "source": [
    "from collections import deque, defaultdict\n",
    "def bfs(graph, s):\n",
    "    dist = defaultdict()\n",
    "    for u in graph:\n",
    "        dist[u] = float('inf')\n",
    "    dist[s] = 0\n",
    "    queue = deque([s])\n",
    "    while len(queue) != 0:\n",
    "        u = queue.popleft()\n",
    "        print(u, dist[u])\n",
    "        for v in graph[u]:\n",
    "            if dist[v] == float('inf'):\n",
    "                queue.append(v)\n",
    "                dist[v] = dist[u] + 1"
   ]
  },
  {
   "cell_type": "code",
   "execution_count": null,
   "metadata": {
    "id": "amspNOdWVu2A"
   },
   "outputs": [],
   "source": [
    "from collections import deque, defaultdict\n",
    "def bfs_layer(graph, s):\n",
    "    dist = defaultdict()\n",
    "    for u in graph:\n",
    "        dist[u] = float('inf')\n",
    "    dist[s] = 0\n",
    "    queue = deque([s])\n",
    "    res = []\n",
    "    while len(queue) != 0:\n",
    "        level = []\n",
    "        m = len(queue)\n",
    "        for _ in range(m):\n",
    "            u = queue.popleft()\n",
    "            level.append(u)\n",
    "            for v in graph[u]:\n",
    "                if dist[v] == float('inf'):\n",
    "                    queue.append(v)\n",
    "                    dist[v] = dist[u] + 1\n",
    "        res.append(level)\n",
    "    return res"
   ]
  },
  {
   "cell_type": "code",
   "execution_count": null,
   "metadata": {
    "colab": {
     "base_uri": "https://localhost:8080/"
    },
    "executionInfo": {
     "elapsed": 162,
     "status": "ok",
     "timestamp": 1651990652662,
     "user": {
      "displayName": "Huong Vo",
      "userId": "06024641955657481731"
     },
     "user_tz": 420
    },
    "id": "9rgS31v7Qwdd",
    "outputId": "6456a1d0-8fc0-46ac-b97c-72b414e0cfc7"
   },
   "outputs": [
    {
     "data": {
      "text/plain": [
       "0"
      ]
     },
     "execution_count": 20,
     "metadata": {},
     "output_type": "execute_result"
    }
   ],
   "source": [
    "from collections import defaultdict\n",
    "d = defaultdict(int)\n",
    "d[12]"
   ]
  },
  {
   "cell_type": "code",
   "execution_count": null,
   "metadata": {
    "colab": {
     "base_uri": "https://localhost:8080/"
    },
    "executionInfo": {
     "elapsed": 180,
     "status": "ok",
     "timestamp": 1651990861588,
     "user": {
      "displayName": "Huong Vo",
      "userId": "06024641955657481731"
     },
     "user_tz": 420
    },
    "id": "m4yYdJ64ROJm",
    "outputId": "4cd2a0ea-c1d3-4f8d-f4d4-dcee026a2a11"
   },
   "outputs": [
    {
     "name": "stdout",
     "output_type": "stream",
     "text": [
      "0 0\n",
      "1 1\n",
      "2 1\n",
      "3 1\n",
      "4 1\n",
      "5 2\n",
      "6 3\n"
     ]
    }
   ],
   "source": [
    "bfs(adj_list, 0)"
   ]
  },
  {
   "cell_type": "code",
   "execution_count": null,
   "metadata": {
    "colab": {
     "base_uri": "https://localhost:8080/"
    },
    "executionInfo": {
     "elapsed": 155,
     "status": "ok",
     "timestamp": 1651991402316,
     "user": {
      "displayName": "Huong Vo",
      "userId": "06024641955657481731"
     },
     "user_tz": 420
    },
    "id": "op7qiAFXUp7I",
    "outputId": "95f6468d-b06b-4bf7-b911-4354e832644f"
   },
   "outputs": [
    {
     "data": {
      "text/plain": [
       "[[0], [1, 2, 3, 4], [5], [6]]"
      ]
     },
     "execution_count": 29,
     "metadata": {},
     "output_type": "execute_result"
    }
   ],
   "source": [
    "bfs_layer(adj_list, 0)"
   ]
  },
  {
   "cell_type": "code",
   "execution_count": 34,
   "metadata": {
    "executionInfo": {
     "elapsed": 159,
     "status": "ok",
     "timestamp": 1651991723436,
     "user": {
      "displayName": "Huong Vo",
      "userId": "06024641955657481731"
     },
     "user_tz": 420
    },
    "id": "4XBfqI_1XFVc"
   },
   "outputs": [],
   "source": [
    "## short\n",
    "def bfs_short(graph, s):\n",
    "    dist = defaultdict()\n",
    "    queue = deque([(s, 0)])\n",
    "    visited = set([s])\n",
    "    while queue:\n",
    "        u, d = queue.popleft()\n",
    "        for v in graph[u]:\n",
    "            if v not in visited:\n",
    "                queue.append((v, d+1))\n",
    "                visited.add(v)"
   ]
  },
  {
   "cell_type": "code",
   "execution_count": 33,
   "metadata": {
    "colab": {
     "base_uri": "https://localhost:8080/"
    },
    "executionInfo": {
     "elapsed": 142,
     "status": "ok",
     "timestamp": 1651991716159,
     "user": {
      "displayName": "Huong Vo",
      "userId": "06024641955657481731"
     },
     "user_tz": 420
    },
    "id": "MHKUDb2HYMpB",
    "outputId": "4801405d-9fbe-4dc2-9949-69eb8dd1eadf"
   },
   "outputs": [
    {
     "name": "stdout",
     "output_type": "stream",
     "text": [
      "0 0\n",
      "1 1\n",
      "2 1\n",
      "3 1\n",
      "4 1\n",
      "5 2\n",
      "6 3\n"
     ]
    }
   ],
   "source": [
    "bfs_short(adj_list, 0)"
   ]
  },
  {
   "cell_type": "code",
   "execution_count": null,
   "metadata": {
    "id": "_sDx46bsYR92"
   },
   "outputs": [],
   "source": []
  }
 ],
 "metadata": {
  "colab": {
   "authorship_tag": "ABX9TyPgJs73Uz+olyPN7fBYi4Bj",
   "collapsed_sections": [],
   "name": "BFS.ipynb",
   "provenance": []
  },
  "kernelspec": {
   "display_name": "Python 3",
   "language": "python",
   "name": "python3"
  },
  "language_info": {
   "codemirror_mode": {
    "name": "ipython",
    "version": 3
   },
   "file_extension": ".py",
   "mimetype": "text/x-python",
   "name": "python",
   "nbconvert_exporter": "python",
   "pygments_lexer": "ipython3",
   "version": "3.7.4"
  }
 },
 "nbformat": 4,
 "nbformat_minor": 1
}

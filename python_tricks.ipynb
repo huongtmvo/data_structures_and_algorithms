{
 "cells": [
  {
   "cell_type": "markdown",
   "id": "4c9c954e",
   "metadata": {},
   "source": [
    "## Unpack list to variable"
   ]
  },
  {
   "cell_type": "code",
   "execution_count": 1,
   "id": "0de45913",
   "metadata": {},
   "outputs": [],
   "source": [
    "colors = ['green', 'red', 'blue', 'yellow']"
   ]
  },
  {
   "cell_type": "code",
   "execution_count": 2,
   "id": "568b635d",
   "metadata": {},
   "outputs": [],
   "source": [
    "col1, col2, col3, col4 = colors"
   ]
  },
  {
   "cell_type": "code",
   "execution_count": 3,
   "id": "a4cf29a1",
   "metadata": {},
   "outputs": [
    {
     "name": "stdout",
     "output_type": "stream",
     "text": [
      "green red blue yellow\n"
     ]
    }
   ],
   "source": [
    "print(col1, col2, col3, col4)"
   ]
  },
  {
   "cell_type": "code",
   "execution_count": 6,
   "id": "47ba91ff",
   "metadata": {},
   "outputs": [],
   "source": [
    "# When only care about the first 2 and want to unpack the rest into a variable others,\n",
    "# put * in front of variable name\n",
    "col1, col2, *others = colors"
   ]
  },
  {
   "cell_type": "code",
   "execution_count": 7,
   "id": "27a02b04",
   "metadata": {},
   "outputs": [
    {
     "data": {
      "text/plain": [
       "['blue', 'yellow']"
      ]
     },
     "execution_count": 7,
     "metadata": {},
     "output_type": "execute_result"
    }
   ],
   "source": [
    "others"
   ]
  },
  {
   "cell_type": "code",
   "execution_count": 11,
   "id": "fc201882",
   "metadata": {},
   "outputs": [
    {
     "name": "stdout",
     "output_type": "stream",
     "text": [
      "[1, 2]\n",
      "[4, 5]\n",
      "[3, 4]\n"
     ]
    }
   ],
   "source": [
    "edges = [[1,2],[4,5],[3,4]]\n",
    "for edge in edges:\n",
    "    print(edge)"
   ]
  },
  {
   "cell_type": "code",
   "execution_count": 12,
   "id": "d3e216c7",
   "metadata": {},
   "outputs": [
    {
     "name": "stdout",
     "output_type": "stream",
     "text": [
      "1 2\n",
      "4 5\n",
      "3 4\n"
     ]
    }
   ],
   "source": [
    "# unpacking the variables by putting * in front of the variable name\n",
    "for edge in edges:\n",
    "    print(*edge)"
   ]
  },
  {
   "cell_type": "code",
   "execution_count": null,
   "id": "30b11e6e",
   "metadata": {},
   "outputs": [],
   "source": []
  }
 ],
 "metadata": {
  "kernelspec": {
   "display_name": "Python 3",
   "language": "python",
   "name": "python3"
  },
  "language_info": {
   "codemirror_mode": {
    "name": "ipython",
    "version": 3
   },
   "file_extension": ".py",
   "mimetype": "text/x-python",
   "name": "python",
   "nbconvert_exporter": "python",
   "pygments_lexer": "ipython3",
   "version": "3.7.4"
  }
 },
 "nbformat": 4,
 "nbformat_minor": 5
}

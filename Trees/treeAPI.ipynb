{
 "cells": [
  {
   "cell_type": "code",
   "execution_count": 23,
   "id": "e7b74f5f",
   "metadata": {},
   "outputs": [],
   "source": [
    "class Node:\n",
    "    def __init__(self, val):\n",
    "        self.val = val \n",
    "        self.left = None\n",
    "        self.right = None\n",
    "\n",
    "def in_order(root):\n",
    "    if root is None:\n",
    "        return\n",
    "    in_order(root.left)\n",
    "    print(root.val)\n",
    "    in_order(root.right)\n",
    "\n",
    "def post_order(root):\n",
    "    if root is None:\n",
    "        return\n",
    "    post_order(root.left)\n",
    "    post_order(root.right)\n",
    "    print(root.val)\n",
    "\n",
    "def pre_order(root):\n",
    "    if root is None:\n",
    "        return\n",
    "    print(root.val)\n",
    "    pre_order(root.left)\n",
    "    pre_order(root.right)\n",
    "\n",
    "def height(self, root):\n",
    "    return 1 + max(height(root.left), height(root.right)) if root else 0\n"
   ]
  },
  {
   "cell_type": "code",
   "execution_count": 24,
   "id": "7532bcf2",
   "metadata": {},
   "outputs": [],
   "source": [
    "root = Node(1)\n",
    "root.left = Node(2)\n",
    "\n",
    "node = Node(5)\n",
    "node.left = Node(4)\n",
    "node.right = Node(3)\n",
    "\n",
    "root.right = node"
   ]
  },
  {
   "cell_type": "code",
   "execution_count": 25,
   "id": "1aebb330",
   "metadata": {},
   "outputs": [
    {
     "name": "stdout",
     "output_type": "stream",
     "text": [
      "2\n",
      "1\n",
      "4\n",
      "5\n",
      "3\n"
     ]
    }
   ],
   "source": [
    "in_order(root)"
   ]
  },
  {
   "cell_type": "code",
   "execution_count": 26,
   "id": "547dee5b",
   "metadata": {},
   "outputs": [
    {
     "name": "stdout",
     "output_type": "stream",
     "text": [
      "1\n",
      "2\n",
      "5\n",
      "4\n",
      "3\n"
     ]
    }
   ],
   "source": [
    "pre_order(root)"
   ]
  },
  {
   "cell_type": "code",
   "execution_count": 27,
   "id": "932d0326",
   "metadata": {},
   "outputs": [
    {
     "name": "stdout",
     "output_type": "stream",
     "text": [
      "2\n",
      "4\n",
      "3\n",
      "5\n",
      "1\n"
     ]
    }
   ],
   "source": [
    "post_order(root)"
   ]
  },
  {
   "cell_type": "code",
   "execution_count": null,
   "id": "9c46a7d2",
   "metadata": {},
   "outputs": [],
   "source": []
  }
 ],
 "metadata": {
  "kernelspec": {
   "display_name": "Python 3",
   "language": "python",
   "name": "python3"
  },
  "language_info": {
   "codemirror_mode": {
    "name": "ipython",
    "version": 3
   },
   "file_extension": ".py",
   "mimetype": "text/x-python",
   "name": "python",
   "nbconvert_exporter": "python",
   "pygments_lexer": "ipython3",
   "version": "3.7.4"
  }
 },
 "nbformat": 4,
 "nbformat_minor": 5
}

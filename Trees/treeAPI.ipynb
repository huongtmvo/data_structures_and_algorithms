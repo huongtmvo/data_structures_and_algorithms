{
 "cells": [
  {
   "cell_type": "markdown",
   "id": "d1811766",
   "metadata": {},
   "source": [
    "## 1. First way to write Tree API : pre order, in order, post order, level order traversal"
   ]
  },
  {
   "cell_type": "code",
   "execution_count": 10,
   "id": "7da4939a",
   "metadata": {},
   "outputs": [],
   "source": [
    "class TreeNode:\n",
    "    def __init__(self, val=0, left=None, right=None):\n",
    "        self.val = val\n",
    "        self.left = left\n",
    "        self.right = right"
   ]
  },
  {
   "cell_type": "code",
   "execution_count": 15,
   "id": "9c46a7d2",
   "metadata": {},
   "outputs": [],
   "source": [
    "def preOrder(root):\n",
    "    res = []\n",
    "    def dfs(node):\n",
    "        if node: \n",
    "            res.append(node.val)\n",
    "            dfs(node.left)\n",
    "            dfs(node.right)\n",
    "    dfs(root)\n",
    "    return res"
   ]
  },
  {
   "cell_type": "code",
   "execution_count": 21,
   "id": "8304ca16",
   "metadata": {},
   "outputs": [],
   "source": [
    "def inOrder(root):\n",
    "    res = []\n",
    "    def dfs(node):\n",
    "        if node:\n",
    "            dfs(node.left)\n",
    "            res.append(node.val)\n",
    "            dfs(node.right)\n",
    "    dfs(root)\n",
    "    return res"
   ]
  },
  {
   "cell_type": "code",
   "execution_count": 27,
   "id": "30ca485a",
   "metadata": {},
   "outputs": [],
   "source": [
    "def postOrder(root):\n",
    "    res = []\n",
    "    def dfs(node):\n",
    "        if node: \n",
    "            dfs(node.left)\n",
    "            dfs(node.right)\n",
    "            res.append(node.val)\n",
    "    dfs(root)\n",
    "    return res"
   ]
  },
  {
   "cell_type": "code",
   "execution_count": 46,
   "id": "1947d7ec",
   "metadata": {},
   "outputs": [],
   "source": [
    "from collections import deque\n",
    "def levelOrder(root):\n",
    "    if root is None:\n",
    "        return None\n",
    "\n",
    "    queue = deque([root])\n",
    "    ans = []\n",
    "    while queue:\n",
    "        level = []\n",
    "        for _ in range(len(queue)):\n",
    "            node = queue.popleft()\n",
    "            level.append(node.val)\n",
    "            if node.left: queue.append(node.left)\n",
    "            if node.right: queue.append(node.right)\n",
    "        ans.append(level)\n",
    "    return ans"
   ]
  },
  {
   "cell_type": "code",
   "execution_count": 28,
   "id": "85215b1e",
   "metadata": {},
   "outputs": [],
   "source": [
    "root = TreeNode(3,TreeNode(5,TreeNode(7),TreeNode(1)),TreeNode(4,TreeNode(2), TreeNode(9)))"
   ]
  },
  {
   "cell_type": "code",
   "execution_count": 29,
   "id": "fe434111",
   "metadata": {},
   "outputs": [
    {
     "data": {
      "text/plain": [
       "[3, 5, 7, 1, 4, 2, 9]"
      ]
     },
     "execution_count": 29,
     "metadata": {},
     "output_type": "execute_result"
    }
   ],
   "source": [
    "preOrder(root)"
   ]
  },
  {
   "cell_type": "code",
   "execution_count": 30,
   "id": "66625585",
   "metadata": {},
   "outputs": [
    {
     "data": {
      "text/plain": [
       "[7, 5, 1, 3, 2, 4, 9]"
      ]
     },
     "execution_count": 30,
     "metadata": {},
     "output_type": "execute_result"
    }
   ],
   "source": [
    "inOrder(root)"
   ]
  },
  {
   "cell_type": "code",
   "execution_count": 31,
   "id": "7cd502d2",
   "metadata": {},
   "outputs": [
    {
     "data": {
      "text/plain": [
       "[7, 1, 5, 2, 9, 4, 3]"
      ]
     },
     "execution_count": 31,
     "metadata": {},
     "output_type": "execute_result"
    }
   ],
   "source": [
    "postOrder(root)"
   ]
  },
  {
   "cell_type": "code",
   "execution_count": 47,
   "id": "3af09951",
   "metadata": {},
   "outputs": [
    {
     "data": {
      "text/plain": [
       "[[3], [5, 4], [7, 1, 2, 9]]"
      ]
     },
     "execution_count": 47,
     "metadata": {},
     "output_type": "execute_result"
    }
   ],
   "source": [
    "levelOrder(root)"
   ]
  },
  {
   "cell_type": "markdown",
   "id": "77aa9566",
   "metadata": {},
   "source": [
    "## 2. Second way to write Tree Order Traversals"
   ]
  },
  {
   "cell_type": "code",
   "execution_count": 36,
   "id": "8e4cfe5c",
   "metadata": {},
   "outputs": [],
   "source": [
    "def preOrder2(root, res=[]):\n",
    "    if root:\n",
    "        res.append(root.val)\n",
    "        preOrder2(root.left, res)\n",
    "        preOrder2(root.right, res)\n",
    "    return res"
   ]
  },
  {
   "cell_type": "code",
   "execution_count": 37,
   "id": "d53c3967",
   "metadata": {},
   "outputs": [],
   "source": [
    "def inOrder2(root, res=[]):\n",
    "    if root:\n",
    "        inOrder2(root.left, res)\n",
    "        res.append(root.val)\n",
    "        inOrder2(root.right, res)\n",
    "    return res"
   ]
  },
  {
   "cell_type": "code",
   "execution_count": 38,
   "id": "b463a6c6",
   "metadata": {},
   "outputs": [],
   "source": [
    "def postOrder2(root, res=[]):\n",
    "    if root:\n",
    "        postOrder2(root.left)\n",
    "        postOrder2(root.right)\n",
    "        res.append(root.val)\n",
    "    return res"
   ]
  },
  {
   "cell_type": "code",
   "execution_count": 39,
   "id": "647682c0",
   "metadata": {},
   "outputs": [
    {
     "data": {
      "text/plain": [
       "[3, 5, 7, 1, 4, 2, 9]"
      ]
     },
     "execution_count": 39,
     "metadata": {},
     "output_type": "execute_result"
    }
   ],
   "source": [
    "preOrder2(root)"
   ]
  },
  {
   "cell_type": "code",
   "execution_count": 40,
   "id": "3e375b20",
   "metadata": {},
   "outputs": [
    {
     "data": {
      "text/plain": [
       "[7, 5, 1, 3, 2, 4, 9]"
      ]
     },
     "execution_count": 40,
     "metadata": {},
     "output_type": "execute_result"
    }
   ],
   "source": [
    "inOrder2(root)"
   ]
  },
  {
   "cell_type": "code",
   "execution_count": 41,
   "id": "cd7ac8ee",
   "metadata": {},
   "outputs": [
    {
     "data": {
      "text/plain": [
       "[7, 1, 5, 2, 9, 4, 3]"
      ]
     },
     "execution_count": 41,
     "metadata": {},
     "output_type": "execute_result"
    }
   ],
   "source": [
    "postOrder2(root)"
   ]
  },
  {
   "cell_type": "markdown",
   "id": "267c7d11",
   "metadata": {},
   "source": [
    "## 3. Third way to write Tree API"
   ]
  },
  {
   "cell_type": "code",
   "execution_count": 48,
   "id": "e7b74f5f",
   "metadata": {},
   "outputs": [],
   "source": [
    "class Node:\n",
    "    def __init__(self, val):\n",
    "        self.val = val \n",
    "        self.left = None\n",
    "        self.right = None\n",
    "\n",
    "def in_order(root):\n",
    "    if root is None:\n",
    "        return\n",
    "    in_order(root.left)\n",
    "    print(root.val)\n",
    "    in_order(root.right)\n",
    "\n",
    "def post_order(root):\n",
    "    if root is None:\n",
    "        return\n",
    "    post_order(root.left)\n",
    "    post_order(root.right)\n",
    "    print(root.val)\n",
    "\n",
    "def pre_order(root):\n",
    "    if root is None:\n",
    "        return\n",
    "    print(root.val)\n",
    "    pre_order(root.left)\n",
    "    pre_order(root.right)\n",
    "\n",
    "def height(self, root):\n",
    "    return 1 + max(height(root.left), height(root.right)) if root else 0"
   ]
  },
  {
   "cell_type": "code",
   "execution_count": 49,
   "id": "7532bcf2",
   "metadata": {},
   "outputs": [],
   "source": [
    "root = Node(1)\n",
    "root.left = Node(2)\n",
    "\n",
    "node = Node(5)\n",
    "node.left = Node(4)\n",
    "node.right = Node(3)\n",
    "\n",
    "root.right = node"
   ]
  },
  {
   "cell_type": "code",
   "execution_count": 50,
   "id": "1aebb330",
   "metadata": {},
   "outputs": [
    {
     "name": "stdout",
     "output_type": "stream",
     "text": [
      "2\n",
      "1\n",
      "4\n",
      "5\n",
      "3\n"
     ]
    }
   ],
   "source": [
    "in_order(root)"
   ]
  },
  {
   "cell_type": "code",
   "execution_count": 51,
   "id": "547dee5b",
   "metadata": {},
   "outputs": [
    {
     "name": "stdout",
     "output_type": "stream",
     "text": [
      "1\n",
      "2\n",
      "5\n",
      "4\n",
      "3\n"
     ]
    }
   ],
   "source": [
    "pre_order(root)"
   ]
  },
  {
   "cell_type": "code",
   "execution_count": 52,
   "id": "932d0326",
   "metadata": {},
   "outputs": [
    {
     "name": "stdout",
     "output_type": "stream",
     "text": [
      "2\n",
      "4\n",
      "3\n",
      "5\n",
      "1\n"
     ]
    }
   ],
   "source": [
    "post_order(root)"
   ]
  }
 ],
 "metadata": {
  "kernelspec": {
   "display_name": "Python 3",
   "language": "python",
   "name": "python3"
  },
  "language_info": {
   "codemirror_mode": {
    "name": "ipython",
    "version": 3
   },
   "file_extension": ".py",
   "mimetype": "text/x-python",
   "name": "python",
   "nbconvert_exporter": "python",
   "pygments_lexer": "ipython3",
   "version": "3.7.4"
  }
 },
 "nbformat": 4,
 "nbformat_minor": 5
}

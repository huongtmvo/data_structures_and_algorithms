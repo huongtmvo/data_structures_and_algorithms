{
 "cells": [
  {
   "cell_type": "markdown",
   "id": "cc0d4a1d",
   "metadata": {},
   "source": [
    "#### Last Digit of the Sum of Squares of Fibonacci Numbers"
   ]
  },
  {
   "cell_type": "markdown",
   "id": "0d827b27",
   "metadata": {},
   "source": [
    "* Task: Compute the last digit of S = F(0)^2 + F(1)^2+ ....+ F(n)^2\n",
    "* Input format: Integer n\n",
    "* Constrains: 0 <= n <= 10^14\n",
    "* Output format: The last digits of S"
   ]
  },
  {
   "cell_type": "markdown",
   "id": "dcb1e6bc",
   "metadata": {},
   "source": [
    "#### Solution"
   ]
  },
  {
   "cell_type": "markdown",
   "id": "e031c7ed",
   "metadata": {},
   "source": [
    "When fibonacci sequences is divided by 10, there is a periodic sequence,called Pisano period\n",
    "\n",
    "S = F(0)^2 + F(1)^2+ ....+ F(n)^2 = F(n) * F(n+1) \n",
    "\n",
    "(Can be illustrated by squares)"
   ]
  },
  {
   "cell_type": "code",
   "execution_count": 1,
   "id": "f119a588",
   "metadata": {},
   "outputs": [],
   "source": [
    "# We are going to find the remainder of Fn and Fn+1 mod 10 and multiply them together\n",
    "def fibo_sum_squares(n):\n",
    "    def get_period(m, mod_list):\n",
    "        pre, cur = 0, 1\n",
    "        mod_list.extend([pre,cur])\n",
    "        for i in range(0, m * m):\n",
    "            pre, cur = cur, (pre + cur) % m\n",
    "            mod_list.append(cur)\n",
    "            if pre == 0 and cur == 1:\n",
    "                return i + 1\n",
    "    mod_list = []\n",
    "    period = get_period(10,mod_list)\n",
    "    loc1 = n % period\n",
    "    loc2 = (n + 1) % period\n",
    "    return (mod_list[loc1] * mod_list[loc2]) % 10\n"
   ]
  },
  {
   "cell_type": "code",
   "execution_count": 2,
   "id": "17302bbd",
   "metadata": {},
   "outputs": [
    {
     "data": {
      "text/plain": [
       "1"
      ]
     },
     "execution_count": 2,
     "metadata": {},
     "output_type": "execute_result"
    }
   ],
   "source": [
    "fibo_sum_squares(73)"
   ]
  },
  {
   "cell_type": "code",
   "execution_count": 3,
   "id": "82d85501",
   "metadata": {},
   "outputs": [
    {
     "data": {
      "text/plain": [
       "0"
      ]
     },
     "execution_count": 3,
     "metadata": {},
     "output_type": "execute_result"
    }
   ],
   "source": [
    "fibo_sum_squares(1234567890)"
   ]
  },
  {
   "cell_type": "code",
   "execution_count": 4,
   "id": "d61167ae",
   "metadata": {},
   "outputs": [
    {
     "data": {
      "text/plain": [
       "3"
      ]
     },
     "execution_count": 4,
     "metadata": {},
     "output_type": "execute_result"
    }
   ],
   "source": [
    "fibo_sum_squares(7)"
   ]
  },
  {
   "cell_type": "code",
   "execution_count": null,
   "id": "bb3cfdbc",
   "metadata": {},
   "outputs": [],
   "source": []
  }
 ],
 "metadata": {
  "kernelspec": {
   "display_name": "Python 3",
   "language": "python",
   "name": "python3"
  },
  "language_info": {
   "codemirror_mode": {
    "name": "ipython",
    "version": 3
   },
   "file_extension": ".py",
   "mimetype": "text/x-python",
   "name": "python",
   "nbconvert_exporter": "python",
   "pygments_lexer": "ipython3",
   "version": "3.7.4"
  }
 },
 "nbformat": 4,
 "nbformat_minor": 5
}

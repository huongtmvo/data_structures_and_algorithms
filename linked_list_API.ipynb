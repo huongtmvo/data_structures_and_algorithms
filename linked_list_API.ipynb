{
 "cells": [
  {
   "cell_type": "code",
   "execution_count": null,
   "id": "8968cb7b",
   "metadata": {},
   "outputs": [],
   "source": [
    "# Write data structure that supports:\n",
    "# PushFront, TopFront, Popfront O(1)\n",
    "# PushBack, TopBack O(1)\n",
    "# Popback O(n)\n",
    "# Find, Erase O(n)\n",
    "# Add after, Empty O(1)"
   ]
  },
  {
   "cell_type": "code",
   "execution_count": 110,
   "id": "aec3f09e",
   "metadata": {},
   "outputs": [],
   "source": [
    "class Node:\n",
    "    def __init__(self, key):\n",
    "        self.key = key\n",
    "        self.next = None\n",
    "        \n",
    "    def __str__(self):\n",
    "        return str(self.key)\n",
    "    \n",
    "    def __repr__(self):\n",
    "        return self.__str__()\n",
    "\n",
    "class LinkedList:\n",
    "    def __init__(self):\n",
    "        self.head = None\n",
    "        self.tail = None\n",
    "        \n",
    "    def pushfront(self, key):\n",
    "        node = Node(key)\n",
    "        node.next = self.head\n",
    "        self.head = node\n",
    "        if self.tail == None:\n",
    "            self.tail = self.head\n",
    "            \n",
    "    def topfront(self):\n",
    "        return self.head\n",
    "    \n",
    "    def popfront(self):\n",
    "        if self.head == None:\n",
    "            raise Exception(\"Can't perform on empty list\")\n",
    "        self.head = self.head.next\n",
    "        if self.head == None:\n",
    "            self.tail = None\n",
    "    \n",
    "    def pushback(self, key):\n",
    "        node = Node(key)\n",
    "        if self.head == None:\n",
    "            self.head = self.tail = node\n",
    "        else:\n",
    "            self.tail.next = node\n",
    "            self.tail = node\n",
    "    \n",
    "    def topback(self):\n",
    "        return self.tail\n",
    "\n",
    "    def popback(self):\n",
    "        if self.tail == None:\n",
    "            raise Exception(\"Cannot perform on empty list\")\n",
    "        if self.tail == self.head:\n",
    "            self.tail = self.head = None\n",
    "            return\n",
    "        p = self.head\n",
    "        while p.next.next != None:\n",
    "            p = p.next\n",
    "        p.next = None\n",
    "        self.tail = p\n",
    "        \n",
    "    def find(self, key):\n",
    "        p = self.head\n",
    "        while p != None:\n",
    "            if p.key == key:\n",
    "                return True\n",
    "            p = p.next\n",
    "        return False\n",
    "        \n",
    "    def erase(self, key):\n",
    "        if self.head is None:\n",
    "            return False\n",
    "        if self.head.key == key:\n",
    "            self.head = self.head.next\n",
    "            return True\n",
    "        cur = self.head.next\n",
    "        prev = self.head\n",
    "        while cur:\n",
    "            if cur.key == key:\n",
    "                prev.next = cur.next\n",
    "                return True\n",
    "            prev = cur\n",
    "            cur = cur.next\n",
    "        return False\n",
    "        \n",
    "    def empty(self):\n",
    "        return self.head == None\n",
    "    \n",
    "    def add_after(self, node, key):\n",
    "        new_node = Node(key)\n",
    "        new_node.next = node.next\n",
    "        node.next = new_node\n",
    "        if self.tail == node:\n",
    "            self.tail == new_node        \n",
    "   \n",
    "    def add_before(self, node, key):\n",
    "        new_node = Node(key)\n",
    "        new_node.next = node\n",
    "        p = self.head\n",
    "        if p == node:\n",
    "            self.head = new_node\n",
    "        else:\n",
    "            while p.next != node:\n",
    "                p = p.next\n",
    "            else:\n",
    "                p.next = new_node\n",
    "                \n",
    "    def __str__(self):\n",
    "        cur = self.head\n",
    "        res = []\n",
    "        while cur:\n",
    "            res.append(str(cur.key))\n",
    "            cur = cur.next\n",
    "        return f\"List = [{', '.join(res)}]\"\n",
    "    \n",
    "    def __repr__(self):\n",
    "        return self.__str__()\n",
    "        "
   ]
  },
  {
   "cell_type": "code",
   "execution_count": 48,
   "id": "13ad84fd",
   "metadata": {},
   "outputs": [],
   "source": []
  },
  {
   "cell_type": "code",
   "execution_count": 29,
   "id": "91635122",
   "metadata": {},
   "outputs": [],
   "source": [
    "# API\n",
    "# pushfront(key)"
   ]
  },
  {
   "cell_type": "code",
   "execution_count": 85,
   "id": "67d1b1c5",
   "metadata": {},
   "outputs": [],
   "source": [
    "lst = LinkedList()\n",
    "lst.pushfront(5)\n",
    "lst.pushfront(7)"
   ]
  },
  {
   "cell_type": "code",
   "execution_count": 86,
   "id": "882c539c",
   "metadata": {},
   "outputs": [
    {
     "data": {
      "text/plain": [
       "List = [7, 5]"
      ]
     },
     "execution_count": 86,
     "metadata": {},
     "output_type": "execute_result"
    }
   ],
   "source": [
    "lst"
   ]
  },
  {
   "cell_type": "code",
   "execution_count": 87,
   "id": "6c35e858",
   "metadata": {},
   "outputs": [
    {
     "data": {
      "text/plain": [
       "7"
      ]
     },
     "execution_count": 87,
     "metadata": {},
     "output_type": "execute_result"
    }
   ],
   "source": [
    "# testing topfront\n",
    "lst.topfront()"
   ]
  },
  {
   "cell_type": "code",
   "execution_count": 88,
   "id": "36278193",
   "metadata": {},
   "outputs": [],
   "source": [
    "lst.popfront()"
   ]
  },
  {
   "cell_type": "code",
   "execution_count": 89,
   "id": "9dd40c69",
   "metadata": {},
   "outputs": [
    {
     "name": "stdout",
     "output_type": "stream",
     "text": [
      "List = [5]\n"
     ]
    }
   ],
   "source": [
    "print(lst)"
   ]
  },
  {
   "cell_type": "code",
   "execution_count": 70,
   "id": "d1bc18ef",
   "metadata": {},
   "outputs": [],
   "source": [
    "lst.popfront()"
   ]
  },
  {
   "cell_type": "code",
   "execution_count": 71,
   "id": "e28db3fa",
   "metadata": {},
   "outputs": [
    {
     "name": "stdout",
     "output_type": "stream",
     "text": [
      "List is empty!\n"
     ]
    }
   ],
   "source": [
    "print(lst)"
   ]
  },
  {
   "cell_type": "code",
   "execution_count": 94,
   "id": "4042f2cf",
   "metadata": {},
   "outputs": [
    {
     "data": {
      "text/plain": [
       "7"
      ]
     },
     "execution_count": 94,
     "metadata": {},
     "output_type": "execute_result"
    }
   ],
   "source": [
    "# test pushback\n",
    "lst2 = LinkedList()\n",
    "lst2.pushfront(5)\n",
    "lst2.pushback(7)\n",
    "lst2\n",
    "lst2.tail\n",
    "lst2.head\n",
    "lst2.topback()"
   ]
  },
  {
   "cell_type": "code",
   "execution_count": 95,
   "id": "3b8eb66c",
   "metadata": {},
   "outputs": [],
   "source": [
    "# test popback\n",
    "lst2.popback()"
   ]
  },
  {
   "cell_type": "code",
   "execution_count": 96,
   "id": "e78ee1f2",
   "metadata": {},
   "outputs": [
    {
     "data": {
      "text/plain": [
       "List = [5]"
      ]
     },
     "execution_count": 96,
     "metadata": {},
     "output_type": "execute_result"
    }
   ],
   "source": [
    "lst2"
   ]
  },
  {
   "cell_type": "code",
   "execution_count": 111,
   "id": "13f42b2a",
   "metadata": {},
   "outputs": [
    {
     "data": {
      "text/plain": [
       "List = []"
      ]
     },
     "execution_count": 111,
     "metadata": {},
     "output_type": "execute_result"
    }
   ],
   "source": [
    "# erase\n",
    "lst3 = LinkedList()\n",
    "lst3"
   ]
  },
  {
   "cell_type": "code",
   "execution_count": 112,
   "id": "03102559",
   "metadata": {},
   "outputs": [
    {
     "data": {
      "text/plain": [
       "False"
      ]
     },
     "execution_count": 112,
     "metadata": {},
     "output_type": "execute_result"
    }
   ],
   "source": [
    "lst3.erase(2)"
   ]
  },
  {
   "cell_type": "code",
   "execution_count": 113,
   "id": "d8380dce",
   "metadata": {},
   "outputs": [
    {
     "data": {
      "text/plain": [
       "List = []"
      ]
     },
     "execution_count": 113,
     "metadata": {},
     "output_type": "execute_result"
    }
   ],
   "source": [
    "lst3"
   ]
  },
  {
   "cell_type": "code",
   "execution_count": null,
   "id": "461eca7b",
   "metadata": {},
   "outputs": [],
   "source": []
  }
 ],
 "metadata": {
  "kernelspec": {
   "display_name": "Python 3",
   "language": "python",
   "name": "python3"
  },
  "language_info": {
   "codemirror_mode": {
    "name": "ipython",
    "version": 3
   },
   "file_extension": ".py",
   "mimetype": "text/x-python",
   "name": "python",
   "nbconvert_exporter": "python",
   "pygments_lexer": "ipython3",
   "version": "3.7.4"
  }
 },
 "nbformat": 4,
 "nbformat_minor": 5
}
